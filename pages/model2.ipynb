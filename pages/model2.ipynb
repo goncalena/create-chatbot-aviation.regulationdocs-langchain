{
 "cells": [
  {
   "cell_type": "code",
   "execution_count": null,
   "id": "6fff391b-8cd0-4db1-aaee-479ab7a35609",
   "metadata": {},
   "outputs": [],
   "source": []
  },
  {
   "cell_type": "code",
   "execution_count": 3,
   "id": "3c4917c5",
   "metadata": {},
   "outputs": [
    {
     "name": "stderr",
     "output_type": "stream",
     "text": [
      "/Library/Frameworks/Python.framework/Versions/3.11/lib/python3.11/site-packages/pinecone/index.py:4: TqdmExperimentalWarning: Using `tqdm.autonotebook.tqdm` in notebook mode. Use `tqdm.tqdm` instead to force console mode (e.g. in jupyter console)\n",
      "  from tqdm.autonotebook import tqdm\n"
     ]
    }
   ],
   "source": [
    "from pypdf import PdfReader\n",
    "from langchain.text_splitter import RecursiveCharacterTextSplitter\n",
    "from langchain.embeddings import OpenAIEmbeddings\n",
    "from langchain.embeddings.sentence_transformer import SentenceTransformerEmbeddings\n",
    "from langchain.llms import OpenAI\n",
    "import pinecone\n",
    "import numpy as np\n",
    "from langchain.vectorstores import Pinecone\n",
    "import pandas as pd\n",
    "from sklearn.model_selection import train_test_split\n",
    "from sklearn.utils import shuffle\n",
    "from langchain.document_loaders.csv_loader import CSVLoader"
   ]
  },
  {
   "cell_type": "code",
   "execution_count": 5,
   "id": "46116ba7",
   "metadata": {},
   "outputs": [],
   "source": [
    "def read_pdf_data(pdf):\n",
    "    text = \"\"\n",
    "    pdf_reader = PdfReader(pdf)\n",
    "    for page in pdf_reader.pages:\n",
    "        text += page.extract_text()\n",
    "    return text"
   ]
  },
  {
   "cell_type": "code",
   "execution_count": 6,
   "id": "a3dc1914",
   "metadata": {},
   "outputs": [],
   "source": [
    "def split_data(text):\n",
    "    text_splitter = RecursiveCharacterTextSplitter(chunk_size=1000, chunk_overlap=50)\n",
    "    docs = text_splitter.split_text(text)\n",
    "    docs_chunks =text_splitter.create_documents(docs)\n",
    "    return docs_chunks"
   ]
  },
  {
   "cell_type": "code",
   "execution_count": 7,
   "id": "f22763eb",
   "metadata": {},
   "outputs": [],
   "source": [
    "def create_embeddings_load_data():\n",
    "    #embeddings = OpenAIEmbeddings()\n",
    "    embeddings = SentenceTransformerEmbeddings(model_name=\"all-MiniLM-L6-v2\")\n",
    "    \n",
    "    return embeddings"
   ]
  },
  {
   "cell_type": "code",
   "execution_count": 15,
   "id": "2dca9e23",
   "metadata": {},
   "outputs": [],
   "source": [
    "def create_embeddings(df,embeddings):\n",
    "    df[2] = df[0].apply(lambda x: embeddings.embed_query(x))\n",
    "    return df"
   ]
  },
  {
   "cell_type": "code",
   "execution_count": 8,
   "id": "7799f927",
   "metadata": {},
   "outputs": [],
   "source": [
    "def push_to_pinecone(pinecone_apikey,pinecone_environment,pinecone_index_name,embeddings,docs):\n",
    "\n",
    "    pinecone.init(\n",
    "    api_key=pinecone_apikey,\n",
    "    environment=pinecone_environment\n",
    "    )\n",
    "\n",
    "    index_name = pinecone_index_name\n",
    "    index = Pinecone.from_documents(docs, embeddings, index_name=index_name)\n",
    "\n",
    "    return index\n"
   ]
  },
  {
   "cell_type": "code",
   "execution_count": 9,
   "id": "54614819",
   "metadata": {},
   "outputs": [],
   "source": [
    "#Read dataset for model creation\n",
    "def read_data(data):\n",
    "    df = pd.read_csv(data,delimiter=',', header=None, encoding='utf-8')  \n",
    "    return df"
   ]
  },
  {
   "cell_type": "code",
   "execution_count": 10,
   "id": "a1067a38",
   "metadata": {},
   "outputs": [],
   "source": [
    "#Create embeddings instance\n",
    "def get_embeddings():\n",
    "    embeddings = SentenceTransformerEmbeddings(model_name=\"all-MiniLM-L6-v2\")\n",
    "    return embeddings"
   ]
  },
  {
   "cell_type": "code",
   "execution_count": 20,
   "id": "c569a90f",
   "metadata": {},
   "outputs": [],
   "source": [
    "#Splitting the data into train & test\n",
    "def split_train_test__data(df_sample):\n",
    "    # Split into training and testing sets\n",
    "    sentences_train, sentences_test, labels_train, labels_test = train_test_split(\n",
    "    list(df_sample[2]), list(df_sample[1]), test_size=0.25, random_state=0,shuffle=True)\n",
    "    print(len(sentences_train))\n",
    "    return sentences_train, sentences_test, labels_train, labels_test"
   ]
  },
  {
   "cell_type": "code",
   "execution_count": 21,
   "id": "db56d464",
   "metadata": {},
   "outputs": [],
   "source": [
    "#Get the accuracy score on test data\n",
    "def get_score(svm_classifier,sentences_test,labels_test):\n",
    "    score = svm_classifier.score(sentences_test, labels_test)\n",
    "    return score"
   ]
  },
  {
   "cell_type": "code",
   "execution_count": null,
   "id": "9fbcc611",
   "metadata": {},
   "outputs": [],
   "source": []
  },
  {
   "cell_type": "code",
   "execution_count": 11,
   "id": "11e53cb3-f56f-41e7-8742-0cbafcef6fa8",
   "metadata": {
    "tags": []
   },
   "outputs": [],
   "source": [
    "import streamlit as st\n",
    "\n",
    "from sklearn.svm import SVC\n",
    "from sklearn.pipeline import make_pipeline\n",
    "from sklearn.preprocessing import StandardScaler\n",
    "import joblib"
   ]
  },
  {
   "cell_type": "code",
   "execution_count": 12,
   "id": "d575f534-a4ba-4b47-bb50-ec1339247a99",
   "metadata": {},
   "outputs": [
    {
     "name": "stderr",
     "output_type": "stream",
     "text": [
      "2023-10-19 20:03:49.546 WARNING streamlit.runtime.state.session_state_proxy: Session state does not function when running a script without `streamlit run`\n"
     ]
    }
   ],
   "source": [
    "if 'cleaned_data' not in st.session_state:\n",
    "    st.session_state['cleaned_data'] =''\n",
    "if 'sentences_train' not in st.session_state:\n",
    "    st.session_state['sentences_train'] =''\n",
    "if 'sentences_test' not in st.session_state:\n",
    "    st.session_state['sentences_test'] =''\n",
    "if 'labels_train' not in st.session_state:\n",
    "    st.session_state['labels_train'] =''\n",
    "if 'labels_test' not in st.session_state:\n",
    "    st.session_state['labels_test'] =''\n",
    "if 'svm_classifier' not in st.session_state:\n",
    "    st.session_state['svm_classifier'] =''"
   ]
  },
  {
   "cell_type": "code",
   "execution_count": 13,
   "id": "1c05f85b-29d7-4db5-a0e5-49eeb27b6ca6",
   "metadata": {
    "tags": []
   },
   "outputs": [],
   "source": [
    "our_data=read_data('/Users/goncaavcicakmak/Desktop/pdf/clean_easa_faqs.csv')\n"
   ]
  },
  {
   "cell_type": "code",
   "execution_count": 18,
   "id": "059c70ec-31cf-451b-83a5-06da6afec7a8",
   "metadata": {
    "tags": []
   },
   "outputs": [],
   "source": [
    "embeddings=get_embeddings()\n",
    "cleaned_data = create_embeddings(our_data,embeddings)"
   ]
  },
  {
   "cell_type": "code",
   "execution_count": 22,
   "id": "6650efb6-e659-407d-aedf-1f349ddbff9f",
   "metadata": {},
   "outputs": [
    {
     "name": "stdout",
     "output_type": "stream",
     "text": [
      "228\n"
     ]
    }
   ],
   "source": [
    "X_train,X_test,y_train,y_test= split_train_test__data(cleaned_data)"
   ]
  },
  {
   "cell_type": "code",
   "execution_count": 23,
   "id": "4aa05240-5f2e-4289-ba67-82b3d7db8900",
   "metadata": {},
   "outputs": [],
   "source": [
    "svm_classifier  = make_pipeline(StandardScaler(), SVC()) "
   ]
  },
  {
   "cell_type": "code",
   "execution_count": 24,
   "id": "475fae7e-832a-4111-a560-792296601bf9",
   "metadata": {},
   "outputs": [
    {
     "data": {
      "text/html": [
       "<style>#sk-container-id-1 {color: black;}#sk-container-id-1 pre{padding: 0;}#sk-container-id-1 div.sk-toggleable {background-color: white;}#sk-container-id-1 label.sk-toggleable__label {cursor: pointer;display: block;width: 100%;margin-bottom: 0;padding: 0.3em;box-sizing: border-box;text-align: center;}#sk-container-id-1 label.sk-toggleable__label-arrow:before {content: \"▸\";float: left;margin-right: 0.25em;color: #696969;}#sk-container-id-1 label.sk-toggleable__label-arrow:hover:before {color: black;}#sk-container-id-1 div.sk-estimator:hover label.sk-toggleable__label-arrow:before {color: black;}#sk-container-id-1 div.sk-toggleable__content {max-height: 0;max-width: 0;overflow: hidden;text-align: left;background-color: #f0f8ff;}#sk-container-id-1 div.sk-toggleable__content pre {margin: 0.2em;color: black;border-radius: 0.25em;background-color: #f0f8ff;}#sk-container-id-1 input.sk-toggleable__control:checked~div.sk-toggleable__content {max-height: 200px;max-width: 100%;overflow: auto;}#sk-container-id-1 input.sk-toggleable__control:checked~label.sk-toggleable__label-arrow:before {content: \"▾\";}#sk-container-id-1 div.sk-estimator input.sk-toggleable__control:checked~label.sk-toggleable__label {background-color: #d4ebff;}#sk-container-id-1 div.sk-label input.sk-toggleable__control:checked~label.sk-toggleable__label {background-color: #d4ebff;}#sk-container-id-1 input.sk-hidden--visually {border: 0;clip: rect(1px 1px 1px 1px);clip: rect(1px, 1px, 1px, 1px);height: 1px;margin: -1px;overflow: hidden;padding: 0;position: absolute;width: 1px;}#sk-container-id-1 div.sk-estimator {font-family: monospace;background-color: #f0f8ff;border: 1px dotted black;border-radius: 0.25em;box-sizing: border-box;margin-bottom: 0.5em;}#sk-container-id-1 div.sk-estimator:hover {background-color: #d4ebff;}#sk-container-id-1 div.sk-parallel-item::after {content: \"\";width: 100%;border-bottom: 1px solid gray;flex-grow: 1;}#sk-container-id-1 div.sk-label:hover label.sk-toggleable__label {background-color: #d4ebff;}#sk-container-id-1 div.sk-serial::before {content: \"\";position: absolute;border-left: 1px solid gray;box-sizing: border-box;top: 0;bottom: 0;left: 50%;z-index: 0;}#sk-container-id-1 div.sk-serial {display: flex;flex-direction: column;align-items: center;background-color: white;padding-right: 0.2em;padding-left: 0.2em;position: relative;}#sk-container-id-1 div.sk-item {position: relative;z-index: 1;}#sk-container-id-1 div.sk-parallel {display: flex;align-items: stretch;justify-content: center;background-color: white;position: relative;}#sk-container-id-1 div.sk-item::before, #sk-container-id-1 div.sk-parallel-item::before {content: \"\";position: absolute;border-left: 1px solid gray;box-sizing: border-box;top: 0;bottom: 0;left: 50%;z-index: -1;}#sk-container-id-1 div.sk-parallel-item {display: flex;flex-direction: column;z-index: 1;position: relative;background-color: white;}#sk-container-id-1 div.sk-parallel-item:first-child::after {align-self: flex-end;width: 50%;}#sk-container-id-1 div.sk-parallel-item:last-child::after {align-self: flex-start;width: 50%;}#sk-container-id-1 div.sk-parallel-item:only-child::after {width: 0;}#sk-container-id-1 div.sk-dashed-wrapped {border: 1px dashed gray;margin: 0 0.4em 0.5em 0.4em;box-sizing: border-box;padding-bottom: 0.4em;background-color: white;}#sk-container-id-1 div.sk-label label {font-family: monospace;font-weight: bold;display: inline-block;line-height: 1.2em;}#sk-container-id-1 div.sk-label-container {text-align: center;}#sk-container-id-1 div.sk-container {/* jupyter's `normalize.less` sets `[hidden] { display: none; }` but bootstrap.min.css set `[hidden] { display: none !important; }` so we also need the `!important` here to be able to override the default hidden behavior on the sphinx rendered scikit-learn.org. See: https://github.com/scikit-learn/scikit-learn/issues/21755 */display: inline-block !important;position: relative;}#sk-container-id-1 div.sk-text-repr-fallback {display: none;}</style><div id=\"sk-container-id-1\" class=\"sk-top-container\"><div class=\"sk-text-repr-fallback\"><pre>Pipeline(steps=[(&#x27;standardscaler&#x27;, StandardScaler()), (&#x27;svc&#x27;, SVC())])</pre><b>In a Jupyter environment, please rerun this cell to show the HTML representation or trust the notebook. <br />On GitHub, the HTML representation is unable to render, please try loading this page with nbviewer.org.</b></div><div class=\"sk-container\" hidden><div class=\"sk-item sk-dashed-wrapped\"><div class=\"sk-label-container\"><div class=\"sk-label sk-toggleable\"><input class=\"sk-toggleable__control sk-hidden--visually\" id=\"sk-estimator-id-1\" type=\"checkbox\" ><label for=\"sk-estimator-id-1\" class=\"sk-toggleable__label sk-toggleable__label-arrow\">Pipeline</label><div class=\"sk-toggleable__content\"><pre>Pipeline(steps=[(&#x27;standardscaler&#x27;, StandardScaler()), (&#x27;svc&#x27;, SVC())])</pre></div></div></div><div class=\"sk-serial\"><div class=\"sk-item\"><div class=\"sk-estimator sk-toggleable\"><input class=\"sk-toggleable__control sk-hidden--visually\" id=\"sk-estimator-id-2\" type=\"checkbox\" ><label for=\"sk-estimator-id-2\" class=\"sk-toggleable__label sk-toggleable__label-arrow\">StandardScaler</label><div class=\"sk-toggleable__content\"><pre>StandardScaler()</pre></div></div></div><div class=\"sk-item\"><div class=\"sk-estimator sk-toggleable\"><input class=\"sk-toggleable__control sk-hidden--visually\" id=\"sk-estimator-id-3\" type=\"checkbox\" ><label for=\"sk-estimator-id-3\" class=\"sk-toggleable__label sk-toggleable__label-arrow\">SVC</label><div class=\"sk-toggleable__content\"><pre>SVC()</pre></div></div></div></div></div></div></div>"
      ],
      "text/plain": [
       "Pipeline(steps=[('standardscaler', StandardScaler()), ('svc', SVC())])"
      ]
     },
     "execution_count": 24,
     "metadata": {},
     "output_type": "execute_result"
    }
   ],
   "source": [
    "svm_classifier.fit(X_train,y_train)"
   ]
  },
  {
   "cell_type": "code",
   "execution_count": 25,
   "id": "5b919171-0860-44d0-ac48-98ce5b9200a5",
   "metadata": {},
   "outputs": [],
   "source": [
    "accuracy_score=get_score(svm_classifier,X_test,y_test)\n",
    "\n"
   ]
  },
  {
   "cell_type": "code",
   "execution_count": 26,
   "id": "59e9336a-a134-46c7-bfc9-3c643b4ce7c6",
   "metadata": {},
   "outputs": [
    {
     "name": "stdout",
     "output_type": "stream",
     "text": [
      "Validation accuracy is 70.12987012987013%!\n"
     ]
    }
   ],
   "source": [
    "print(f\"Validation accuracy is {100*accuracy_score}%!\")"
   ]
  },
  {
   "cell_type": "code",
   "execution_count": 27,
   "id": "8ba2f61f",
   "metadata": {},
   "outputs": [
    {
     "data": {
      "text/plain": [
       "['modelsvm.pk1']"
      ]
     },
     "execution_count": 27,
     "metadata": {},
     "output_type": "execute_result"
    }
   ],
   "source": [
    "joblib.dump(svm_classifier, 'modelsvm.pk1')"
   ]
  },
  {
   "cell_type": "code",
   "execution_count": null,
   "id": "5bbac510",
   "metadata": {},
   "outputs": [],
   "source": []
  },
  {
   "cell_type": "code",
   "execution_count": null,
   "id": "c7ab1840",
   "metadata": {},
   "outputs": [],
   "source": []
  },
  {
   "cell_type": "code",
   "execution_count": null,
   "id": "e2fa66c4",
   "metadata": {},
   "outputs": [],
   "source": []
  },
  {
   "cell_type": "code",
   "execution_count": null,
   "id": "cfa623bd",
   "metadata": {},
   "outputs": [],
   "source": []
  }
 ],
 "metadata": {
  "kernelspec": {
   "display_name": "Python 3 (ipykernel)",
   "language": "python",
   "name": "python3"
  },
  "language_info": {
   "codemirror_mode": {
    "name": "ipython",
    "version": 3
   },
   "file_extension": ".py",
   "mimetype": "text/x-python",
   "name": "python",
   "nbconvert_exporter": "python",
   "pygments_lexer": "ipython3",
   "version": "3.11.4"
  }
 },
 "nbformat": 4,
 "nbformat_minor": 5
}
